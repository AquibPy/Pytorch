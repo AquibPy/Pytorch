{
 "cells": [
  {
   "cell_type": "markdown",
   "metadata": {},
   "source": [
    "We'll create a model that predicts crop yields for apples and oranges (target variables) by looking at the average temperature, rainfall and humidity (input variables or features) in a region\n",
    "\n",
    "\n",
    "In a linear regression model, each target variable is estimated to be a weighted sum of the input variables, offset by some constant, known as a bias :\n",
    "\n",
    "**yield_apple  = w11 * temp + w12 * rainfall + w13 * humidity + b1**\n",
    "\n",
    "**yield_orange = w21 * temp + w22 * rainfall + w23 * humidity + b2**\n",
    "\n",
    "Visually, it means that the yield of apples is a linear or planar function of temperature, rainfall and humidity\n",
    "\n",
    "![Data](https://i.imgur.com/6Ujttb4.png)"
   ]
  },
  {
   "cell_type": "code",
   "execution_count": 1,
   "metadata": {},
   "outputs": [],
   "source": [
    "import torch\n",
    "import numpy as np"
   ]
  },
  {
   "cell_type": "markdown",
   "metadata": {},
   "source": [
    "**Training data**\n",
    "\n",
    "The training data can be represented using 2 matrices: inputs and targets, each with one row per observation, and one column per variable."
   ]
  },
  {
   "cell_type": "code",
   "execution_count": 2,
   "metadata": {},
   "outputs": [],
   "source": [
    "# Input (temp, rainfall, humidity)\n",
    "inputs = np.array([\n",
    "    [73,67,43],\n",
    "    [91,88,64],\n",
    "    [87,134,58],\n",
    "    [102,43,37],\n",
    "    [69,96,70]],dtype='float32')"
   ]
  },
  {
   "cell_type": "code",
   "execution_count": 3,
   "metadata": {},
   "outputs": [],
   "source": [
    "# Targets (apples, oranges)\n",
    "targets = np.array([[56, 70], \n",
    "                    [81, 101], \n",
    "                    [119, 133], \n",
    "                    [22, 37], \n",
    "                    [103, 119]], dtype='float32')"
   ]
  },
  {
   "cell_type": "markdown",
   "metadata": {},
   "source": [
    "#### Convert inputs and targets to tensors"
   ]
  },
  {
   "cell_type": "code",
   "execution_count": 4,
   "metadata": {},
   "outputs": [
    {
     "name": "stdout",
     "output_type": "stream",
     "text": [
      "tensor([[ 73.,  67.,  43.],\n",
      "        [ 91.,  88.,  64.],\n",
      "        [ 87., 134.,  58.],\n",
      "        [102.,  43.,  37.],\n",
      "        [ 69.,  96.,  70.]])\n",
      "tensor([[ 56.,  70.],\n",
      "        [ 81., 101.],\n",
      "        [119., 133.],\n",
      "        [ 22.,  37.],\n",
      "        [103., 119.]])\n"
     ]
    }
   ],
   "source": [
    "inputs = torch.from_numpy(inputs)\n",
    "targets = torch.from_numpy(targets)\n",
    "\n",
    "print(inputs)\n",
    "print(targets)"
   ]
  },
  {
   "cell_type": "markdown",
   "metadata": {},
   "source": [
    "**Linear regression model from scratch**\n",
    "\n",
    "The weights and biases (w11, w12,... w23, b1 & b2) can also be represented as matrices, initialized as random values. The first row of w and the first element of b are used to predict the first target variable i.e. yield of apples, and similarly the second for oranges.\n",
    "\n",
    "**yield_apple  = w11 * temp + w12 * rainfall + w13 * humidity + b1**\n",
    "\n",
    "**yield_orange = w21 * temp + w22 * rainfall + w23 * humidity + b2**"
   ]
  },
  {
   "cell_type": "code",
   "execution_count": 5,
   "metadata": {},
   "outputs": [
    {
     "name": "stdout",
     "output_type": "stream",
     "text": [
      "tensor([[ 0.4242,  1.2748, -0.4466],\n",
      "        [ 1.1766, -1.0144,  0.4061]], requires_grad=True)\n",
      "tensor([-0.4679,  1.5108], requires_grad=True)\n"
     ]
    }
   ],
   "source": [
    "# Weights and Bias\n",
    "\n",
    "w = torch.randn(2,3,requires_grad = True)\n",
    "b = torch.randn(2,requires_grad = True)\n",
    "print(w)\n",
    "print(b)"
   ]
  },
  {
   "cell_type": "markdown",
   "metadata": {},
   "source": [
    "```torch.randn``` creates a tensor with the given shape, with elements picked randomly from a normal distribution with mean 0 and standard deviation 1.\n",
    "\n",
    "![Model](https://i.imgur.com/WGXLFvA.png)"
   ]
  },
  {
   "cell_type": "code",
   "execution_count": 6,
   "metadata": {},
   "outputs": [],
   "source": [
    "def model(x):\n",
    "    return x@w.t() + b"
   ]
  },
  {
   "cell_type": "markdown",
   "metadata": {},
   "source": [
    "```@``` represents matrix multiplication in PyTorch, and the ```.t``` method returns the transpose of a tensor.\n",
    "\n",
    "The matrix obtained by passing the input data into the model is a set of predictions for the target variables."
   ]
  },
  {
   "cell_type": "markdown",
   "metadata": {},
   "source": [
    "**Generate Prediction**"
   ]
  },
  {
   "cell_type": "code",
   "execution_count": 7,
   "metadata": {},
   "outputs": [
    {
     "name": "stdout",
     "output_type": "stream",
     "text": [
      "tensor([[ 96.7125,  36.8982],\n",
      "        [121.7422,  45.3025],\n",
      "        [181.3674,  -8.5027],\n",
      "        [ 81.0988,  92.9271],\n",
      "        [119.9281,  13.7399]], grad_fn=<AddBackward0>)\n"
     ]
    }
   ],
   "source": [
    "preds = model(inputs)\n",
    "print(preds)"
   ]
  },
  {
   "cell_type": "markdown",
   "metadata": {},
   "source": [
    "You can see that there's a huge difference between the predictions of our model, and the actual values of the target variables. Obviously, this is because we've initialized our model with random weights and biases, and we can't expect it to just work.\n",
    "\n",
    "## Loss Function\n",
    "\n",
    "Before we improve our model, we need a way to evaluate how well our model is performing. We can compare the model's predictions with the actual targets, using the following method:\n",
    "\n",
    "1.Calculate the difference between the two matrices (preds and targets).\n",
    "\n",
    "2.Square all elements of the difference matrix to remove negative values.\n",
    "\n",
    "3.Calculate the average of the elements in the resulting matrix.\n",
    "\n",
    "The result is a single number, known as the mean squared error (MSE)."
   ]
  },
  {
   "cell_type": "code",
   "execution_count": 8,
   "metadata": {},
   "outputs": [],
   "source": [
    "# MSE\n",
    "def mse(t1,t2):\n",
    "    diff = t1-t2\n",
    "    return torch.sum(diff*diff)/diff.numel()"
   ]
  },
  {
   "cell_type": "markdown",
   "metadata": {},
   "source": [
    "```torch.sum``` returns the sum of all the elements in a tensor, and the ```.numel``` method returns the number of elements in a tensor. Let's compute the mean squared error for the current predictions of our model."
   ]
  },
  {
   "cell_type": "code",
   "execution_count": 10,
   "metadata": {},
   "outputs": [
    {
     "name": "stdout",
     "output_type": "stream",
     "text": [
      "tensor(4941.4844, grad_fn=<DivBackward0>)\n",
      "tensor(70.2957, grad_fn=<SqrtBackward>)\n"
     ]
    }
   ],
   "source": [
    "loss = mse(preds,targets)\n",
    "print(loss)\n",
    "print(torch.sqrt(loss))"
   ]
  },
  {
   "cell_type": "markdown",
   "metadata": {},
   "source": [
    "Here’s how we can interpret the result: On average, each element in the prediction differs from the actual target by about 70 (square root of the loss 4941). And that’s pretty bad, considering the numbers we are trying to predict are themselves in the range 50–200. Also, the result is called the loss, because it indicates how bad the model is at predicting the target variables. Lower the loss, better the model."
   ]
  },
  {
   "cell_type": "markdown",
   "metadata": {},
   "source": [
    "## Compute Gradients\n",
    "\n",
    "With PyTorch, we can automatically compute the gradient or derivative of the loss w.r.t. to the weights and biases, because they have ```requires_grad``` set to ```True```."
   ]
  },
  {
   "cell_type": "code",
   "execution_count": 11,
   "metadata": {},
   "outputs": [],
   "source": [
    "loss.backward()"
   ]
  },
  {
   "cell_type": "markdown",
   "metadata": {},
   "source": [
    "The gradients are stored in the ```.grad``` property of the respective tensors. Note that the derivative of the loss w.r.t. the weights matrix is itself a matrix, with the same dimensions."
   ]
  },
  {
   "cell_type": "code",
   "execution_count": 12,
   "metadata": {},
   "outputs": [
    {
     "name": "stdout",
     "output_type": "stream",
     "text": [
      "tensor([[ 0.4242,  1.2748, -0.4466],\n",
      "        [ 1.1766, -1.0144,  0.4061]], requires_grad=True)\n",
      "tensor([[ 3860.3279,  3767.3276,  2269.4148],\n",
      "        [-4270.8037, -6756.1323, -3698.8149]])\n"
     ]
    }
   ],
   "source": [
    "print(w)\n",
    "print(w.grad)"
   ]
  },
  {
   "cell_type": "markdown",
   "metadata": {},
   "source": [
    "The loss is a quadratic function of our weights and biases, and our objective is to find the set of weights where the loss is the lowest. If we plot a graph of the loss w.r.t any individual weight or bias element, it will look like the figure shown below. A key insight from calculus is that the gradient indicates the rate of change of the loss, or the slope of the loss function w.r.t. the weights and biases.\n",
    "\n",
    "If a gradient element is positive:\n",
    "\n",
    "* increasing the element's value slightly will increase the loss.\n",
    "* decreasing the element's value slightly will decrease the loss\n",
    "\n",
    "![positive](https://i.imgur.com/hFYoVgU.png)\n",
    "\n",
    "\n",
    "If a gradient element is negative:\n",
    "\n",
    "* increasing the element's value slightly will decrease the loss.\n",
    "* decreasing the element's value slightly will increase the loss.\n",
    "![negative](https://i.imgur.com/w3Wii7C.png)\n",
    "\n",
    "\n",
    "The increase or decrease in loss by changing a weight element is proportional to the value of the gradient of the loss w.r.t. that element. This forms the basis for the optimization algorithm that we'll use to improve our model.\n",
    "\n",
    "\n",
    "Before we proceed, we reset the gradients to zero by calling ```.zero_()``` method. We need to do this, because PyTorch accumulates, gradients i.e. the next time we call ```.backward``` on the loss, the new gradient values will get added to the existing gradient values, which may lead to unexpected results."
   ]
  },
  {
   "cell_type": "code",
   "execution_count": 13,
   "metadata": {},
   "outputs": [
    {
     "name": "stdout",
     "output_type": "stream",
     "text": [
      "tensor([[0., 0., 0.],\n",
      "        [0., 0., 0.]])\n",
      "tensor([0., 0.])\n"
     ]
    }
   ],
   "source": [
    "w.grad.zero_()\n",
    "b.grad.zero_()\n",
    "print(w.grad)\n",
    "print(b.grad)"
   ]
  },
  {
   "cell_type": "markdown",
   "metadata": {},
   "source": [
    "Adjust weights and biases using gradient descent\n",
    "\n",
    "We'll reduce the loss and improve our model using the gradient descent optimization algorithm, which has the following steps:\n",
    "\n",
    "1. Generate predictions\n",
    "\n",
    "2. Calculate the loss\n",
    "\n",
    "3. Compute gradients w.r.t the weights and biases\n",
    "\n",
    "4. Adjust the weights by subtracting a small quantity proportional to the gradient\n",
    "\n",
    "5. Reset the gradients to zero"
   ]
  },
  {
   "cell_type": "code",
   "execution_count": 14,
   "metadata": {},
   "outputs": [
    {
     "data": {
      "text/plain": [
       "tensor([[ 96.7125,  36.8982],\n",
       "        [121.7422,  45.3025],\n",
       "        [181.3674,  -8.5027],\n",
       "        [ 81.0988,  92.9271],\n",
       "        [119.9281,  13.7399]], grad_fn=<AddBackward0>)"
      ]
     },
     "execution_count": 14,
     "metadata": {},
     "output_type": "execute_result"
    }
   ],
   "source": [
    "preds = model(inputs)\n",
    "preds"
   ]
  },
  {
   "cell_type": "code",
   "execution_count": 15,
   "metadata": {},
   "outputs": [
    {
     "name": "stdout",
     "output_type": "stream",
     "text": [
      "tensor(4941.4844, grad_fn=<DivBackward0>)\n"
     ]
    }
   ],
   "source": [
    "loss = mse(preds,targets)\n",
    "print(loss)"
   ]
  },
  {
   "cell_type": "code",
   "execution_count": 16,
   "metadata": {},
   "outputs": [
    {
     "name": "stdout",
     "output_type": "stream",
     "text": [
      "tensor([[ 3860.3279,  3767.3276,  2269.4148],\n",
      "        [-4270.8037, -6756.1323, -3698.8149]])\n",
      "tensor([ 43.9698, -55.9270])\n"
     ]
    }
   ],
   "source": [
    "loss.backward()\n",
    "print(w.grad)\n",
    "print(b.grad)"
   ]
  },
  {
   "cell_type": "markdown",
   "metadata": {},
   "source": [
    "### Adjust weights & reset gradients"
   ]
  },
  {
   "cell_type": "code",
   "execution_count": 18,
   "metadata": {},
   "outputs": [],
   "source": [
    "with torch.no_grad():\n",
    "    w -= w.grad * 1e-5\n",
    "    b -= b.grad * 1e-5\n",
    "    w.grad.zero_()\n",
    "    b.grad.zero_()"
   ]
  },
  {
   "cell_type": "markdown",
   "metadata": {},
   "source": [
    "* We use ```torch.no_grad``` to indicate to PyTorch that we shouldn't track, calculate or modify gradients while updating the weights and biases.\n",
    "\n",
    "* We multiply the gradients with a really small number (```10^-5``` in this case), to ensure that we don't modify the weights by a really large amount, since we only want to take a small step in the downhill direction of the gradient. This number is called the ***learning rate*** of the algorithm.\n",
    "\n",
    "* After we have updated the weights, we reset the gradients back to zero, to avoid affecting any future computations."
   ]
  },
  {
   "cell_type": "code",
   "execution_count": 19,
   "metadata": {},
   "outputs": [
    {
     "name": "stdout",
     "output_type": "stream",
     "text": [
      "tensor([[ 0.3470,  1.1995, -0.4920],\n",
      "        [ 1.2620, -0.8793,  0.4801]], requires_grad=True)\n",
      "tensor([-0.4688,  1.5120], requires_grad=True)\n"
     ]
    }
   ],
   "source": [
    "print(w)\n",
    "print(b)"
   ]
  },
  {
   "cell_type": "code",
   "execution_count": 20,
   "metadata": {},
   "outputs": [
    {
     "name": "stdout",
     "output_type": "stream",
     "text": [
      "tensor(3097.7515, grad_fn=<DivBackward0>)\n"
     ]
    }
   ],
   "source": [
    "# Calculate loss\n",
    "preds = model(inputs)\n",
    "loss = mse(preds, targets)\n",
    "print(loss)"
   ]
  },
  {
   "cell_type": "markdown",
   "metadata": {},
   "source": [
    "***Train for multiple epochs***\n",
    "\n",
    "\n",
    "To reduce the loss further, we can repeat the process of adjusting the weights and biases using the gradients multiple times. Each iteration is called an epoch. Let's train the model for 100 epochs."
   ]
  },
  {
   "cell_type": "code",
   "execution_count": 22,
   "metadata": {},
   "outputs": [
    {
     "name": "stdout",
     "output_type": "stream",
     "text": [
      "For Epoch: 1 Loss is 564.1050415039062\n",
      "For Epoch: 2 Loss is 557.7675170898438\n",
      "For Epoch: 3 Loss is 551.5086059570312\n",
      "For Epoch: 4 Loss is 545.3272705078125\n",
      "For Epoch: 5 Loss is 539.2225341796875\n",
      "For Epoch: 6 Loss is 533.1935424804688\n",
      "For Epoch: 7 Loss is 527.2391967773438\n",
      "For Epoch: 8 Loss is 521.3585815429688\n",
      "For Epoch: 9 Loss is 515.5508422851562\n",
      "For Epoch: 10 Loss is 509.81494140625\n",
      "For Epoch: 11 Loss is 504.1499938964844\n",
      "For Epoch: 12 Loss is 498.55523681640625\n",
      "For Epoch: 13 Loss is 493.0296936035156\n",
      "For Epoch: 14 Loss is 487.57244873046875\n",
      "For Epoch: 15 Loss is 482.1827697753906\n",
      "For Epoch: 16 Loss is 476.85968017578125\n",
      "For Epoch: 17 Loss is 471.6024475097656\n",
      "For Epoch: 18 Loss is 466.41015625\n",
      "For Epoch: 19 Loss is 461.28192138671875\n",
      "For Epoch: 20 Loss is 456.21697998046875\n",
      "For Epoch: 21 Loss is 451.21490478515625\n",
      "For Epoch: 22 Loss is 446.2743225097656\n",
      "For Epoch: 23 Loss is 441.394775390625\n",
      "For Epoch: 24 Loss is 436.57550048828125\n",
      "For Epoch: 25 Loss is 431.8157653808594\n",
      "For Epoch: 26 Loss is 427.11456298828125\n",
      "For Epoch: 27 Loss is 422.4715270996094\n",
      "For Epoch: 28 Loss is 417.8856506347656\n",
      "For Epoch: 29 Loss is 413.35614013671875\n",
      "For Epoch: 30 Loss is 408.8826599121094\n",
      "For Epoch: 31 Loss is 404.4642333984375\n",
      "For Epoch: 32 Loss is 400.10015869140625\n",
      "For Epoch: 33 Loss is 395.7899475097656\n",
      "For Epoch: 34 Loss is 391.53265380859375\n",
      "For Epoch: 35 Loss is 387.32781982421875\n",
      "For Epoch: 36 Loss is 383.1746520996094\n",
      "For Epoch: 37 Loss is 379.07269287109375\n",
      "For Epoch: 38 Loss is 375.0209655761719\n",
      "For Epoch: 39 Loss is 371.019287109375\n",
      "For Epoch: 40 Loss is 367.0666198730469\n",
      "For Epoch: 41 Loss is 363.16259765625\n",
      "For Epoch: 42 Loss is 359.3063659667969\n",
      "For Epoch: 43 Loss is 355.4976806640625\n",
      "For Epoch: 44 Loss is 351.7356262207031\n",
      "For Epoch: 45 Loss is 348.019775390625\n",
      "For Epoch: 46 Loss is 344.34954833984375\n",
      "For Epoch: 47 Loss is 340.7242431640625\n",
      "For Epoch: 48 Loss is 337.14337158203125\n",
      "For Epoch: 49 Loss is 333.6062927246094\n",
      "For Epoch: 50 Loss is 330.1127624511719\n",
      "For Epoch: 51 Loss is 326.66192626953125\n",
      "For Epoch: 52 Loss is 323.2533874511719\n",
      "For Epoch: 53 Loss is 319.886474609375\n",
      "For Epoch: 54 Loss is 316.5609130859375\n",
      "For Epoch: 55 Loss is 313.27581787109375\n",
      "For Epoch: 56 Loss is 310.03106689453125\n",
      "For Epoch: 57 Loss is 306.8258361816406\n",
      "For Epoch: 58 Loss is 303.65985107421875\n",
      "For Epoch: 59 Loss is 300.53240966796875\n",
      "For Epoch: 60 Loss is 297.44329833984375\n",
      "For Epoch: 61 Loss is 294.3918762207031\n",
      "For Epoch: 62 Loss is 291.3776550292969\n",
      "For Epoch: 63 Loss is 288.4001770019531\n",
      "For Epoch: 64 Loss is 285.4591064453125\n",
      "For Epoch: 65 Loss is 282.55377197265625\n",
      "For Epoch: 66 Loss is 279.6838684082031\n",
      "For Epoch: 67 Loss is 276.84893798828125\n",
      "For Epoch: 68 Loss is 274.04833984375\n",
      "For Epoch: 69 Loss is 271.2820129394531\n",
      "For Epoch: 70 Loss is 268.54925537109375\n",
      "For Epoch: 71 Loss is 265.8497619628906\n",
      "For Epoch: 72 Loss is 263.18310546875\n",
      "For Epoch: 73 Loss is 260.54876708984375\n",
      "For Epoch: 74 Loss is 257.9464416503906\n",
      "For Epoch: 75 Loss is 255.3756866455078\n",
      "For Epoch: 76 Loss is 252.8362579345703\n",
      "For Epoch: 77 Loss is 250.3275146484375\n",
      "For Epoch: 78 Loss is 247.8492431640625\n",
      "For Epoch: 79 Loss is 245.4010009765625\n",
      "For Epoch: 80 Loss is 242.9823760986328\n",
      "For Epoch: 81 Loss is 240.593017578125\n",
      "For Epoch: 82 Loss is 238.23263549804688\n",
      "For Epoch: 83 Loss is 235.90078735351562\n",
      "For Epoch: 84 Loss is 233.59719848632812\n",
      "For Epoch: 85 Loss is 231.32125854492188\n",
      "For Epoch: 86 Loss is 229.07302856445312\n",
      "For Epoch: 87 Loss is 226.85183715820312\n",
      "For Epoch: 88 Loss is 224.65750122070312\n",
      "For Epoch: 89 Loss is 222.48965454101562\n",
      "For Epoch: 90 Loss is 220.34786987304688\n",
      "For Epoch: 91 Loss is 218.23190307617188\n",
      "For Epoch: 92 Loss is 216.1414337158203\n",
      "For Epoch: 93 Loss is 214.0761260986328\n",
      "For Epoch: 94 Loss is 212.03573608398438\n",
      "For Epoch: 95 Loss is 210.0198211669922\n",
      "For Epoch: 96 Loss is 208.0281982421875\n",
      "For Epoch: 97 Loss is 206.060546875\n",
      "For Epoch: 98 Loss is 204.11636352539062\n",
      "For Epoch: 99 Loss is 202.19564819335938\n",
      "For Epoch: 100 Loss is 200.29795837402344\n"
     ]
    }
   ],
   "source": [
    "final_losses = []\n",
    "for i in range(100):\n",
    "    preds = model(inputs)\n",
    "    loss = mse(preds,targets)\n",
    "    final_losses.append(loss)\n",
    "    print('For Epoch: {} Loss is {}'.format(i+1,loss))\n",
    "    loss.backward()\n",
    "    with torch.no_grad():\n",
    "        w -= w.grad * 1e-5\n",
    "        b -= b.grad * 1e-5\n",
    "        w.grad.zero_()\n",
    "        b.grad.zero_()"
   ]
  },
  {
   "cell_type": "code",
   "execution_count": 23,
   "metadata": {},
   "outputs": [
    {
     "name": "stdout",
     "output_type": "stream",
     "text": [
      "tensor(198.4230, grad_fn=<DivBackward0>)\n"
     ]
    }
   ],
   "source": [
    "preds = model(inputs)\n",
    "loss = mse(preds, targets)\n",
    "print(loss)"
   ]
  },
  {
   "cell_type": "code",
   "execution_count": 24,
   "metadata": {},
   "outputs": [
    {
     "data": {
      "text/plain": [
       "tensor([[ 58.9359,  75.7584],\n",
       "        [ 75.2683, 103.7539],\n",
       "        [131.6254, 117.1893],\n",
       "        [ 31.0121,  67.1637],\n",
       "        [ 83.9614, 107.2058]], grad_fn=<AddBackward0>)"
      ]
     },
     "execution_count": 24,
     "metadata": {},
     "output_type": "execute_result"
    }
   ],
   "source": [
    "preds"
   ]
  },
  {
   "cell_type": "code",
   "execution_count": 26,
   "metadata": {},
   "outputs": [
    {
     "data": {
      "text/plain": [
       "tensor([[ 56.,  70.],\n",
       "        [ 81., 101.],\n",
       "        [119., 133.],\n",
       "        [ 22.,  37.],\n",
       "        [103., 119.]])"
      ]
     },
     "execution_count": 26,
     "metadata": {},
     "output_type": "execute_result"
    }
   ],
   "source": [
    "targets"
   ]
  },
  {
   "cell_type": "code",
   "execution_count": 28,
   "metadata": {},
   "outputs": [
    {
     "data": {
      "text/plain": [
       "Text(0.5, 0, 'Epoch')"
      ]
     },
     "execution_count": 28,
     "metadata": {},
     "output_type": "execute_result"
    },
    {
     "data": {
      "image/png": "[encoded data removed]",
      "text/plain": [
       "<Figure size 432x288 with 1 Axes>"
      ]
     },
     "metadata": {
      "needs_background": "light"
     },
     "output_type": "display_data"
    }
   ],
   "source": [
    "import matplotlib.pyplot as plt\n",
    "%matplotlib inline\n",
    "\n",
    "plt.plot(range(100),final_losses)\n",
    "plt.ylabel('Loss')\n",
    "plt.xlabel('Epoch')"
   ]
  },
  {
   "cell_type": "markdown",
   "metadata": {},
   "source": [
    "# Linear regression using PyTorch built-ins"
   ]
  },
  {
   "cell_type": "code",
   "execution_count": 29,
   "metadata": {},
   "outputs": [],
   "source": [
    "import torch.nn as nn"
   ]
  },
  {
   "cell_type": "code",
   "execution_count": 30,
   "metadata": {},
   "outputs": [],
   "source": [
    "# Input (temp, rainfall, humidity)\n",
    "inputs = np.array([[73, 67, 43], [91, 88, 64], [87, 134, 58], \n",
    "                   [102, 43, 37], [69, 96, 70], [73, 67, 43], \n",
    "                   [91, 88, 64], [87, 134, 58], [102, 43, 37], \n",
    "                   [69, 96, 70], [73, 67, 43], [91, 88, 64], \n",
    "                   [87, 134, 58], [102, 43, 37], [69, 96, 70]], \n",
    "                  dtype='float32')\n",
    "\n",
    "# Targets (apples, oranges)\n",
    "targets = np.array([[56, 70], [81, 101], [119, 133], \n",
    "                    [22, 37], [103, 119], [56, 70], \n",
    "                    [81, 101], [119, 133], [22, 37], \n",
    "                    [103, 119], [56, 70], [81, 101], \n",
    "                    [119, 133], [22, 37], [103, 119]], \n",
    "                   dtype='float32')\n",
    "\n",
    "inputs = torch.from_numpy(inputs)\n",
    "targets = torch.from_numpy(targets)"
   ]
  },
  {
   "cell_type": "code",
   "execution_count": 31,
   "metadata": {},
   "outputs": [
    {
     "data": {
      "text/plain": [
       "tensor([[ 73.,  67.,  43.],\n",
       "        [ 91.,  88.,  64.],\n",
       "        [ 87., 134.,  58.],\n",
       "        [102.,  43.,  37.],\n",
       "        [ 69.,  96.,  70.],\n",
       "        [ 73.,  67.,  43.],\n",
       "        [ 91.,  88.,  64.],\n",
       "        [ 87., 134.,  58.],\n",
       "        [102.,  43.,  37.],\n",
       "        [ 69.,  96.,  70.],\n",
       "        [ 73.,  67.,  43.],\n",
       "        [ 91.,  88.,  64.],\n",
       "        [ 87., 134.,  58.],\n",
       "        [102.,  43.,  37.],\n",
       "        [ 69.,  96.,  70.]])"
      ]
     },
     "execution_count": 31,
     "metadata": {},
     "output_type": "execute_result"
    }
   ],
   "source": [
    "inputs"
   ]
  },
  {
   "cell_type": "markdown",
   "metadata": {},
   "source": [
    "**Dataset and DataLoader**\n",
    "\n",
    "We'll create a TensorDataset, which allows access to rows from inputs and targets as tuples, and provides standard APIs for working with many different types of datasets in PyTorch."
   ]
  },
  {
   "cell_type": "code",
   "execution_count": 32,
   "metadata": {},
   "outputs": [],
   "source": [
    "from torch.utils.data import TensorDataset"
   ]
  },
  {
   "cell_type": "code",
   "execution_count": 33,
   "metadata": {},
   "outputs": [
    {
     "data": {
      "text/plain": [
       "(tensor([[ 73.,  67.,  43.],\n",
       "         [ 91.,  88.,  64.],\n",
       "         [ 87., 134.,  58.]]),\n",
       " tensor([[ 56.,  70.],\n",
       "         [ 81., 101.],\n",
       "         [119., 133.]]))"
      ]
     },
     "execution_count": 33,
     "metadata": {},
     "output_type": "execute_result"
    }
   ],
   "source": [
    "train_ds = TensorDataset(inputs,targets)\n",
    "train_ds[0:3]"
   ]
  },
  {
   "cell_type": "markdown",
   "metadata": {},
   "source": [
    "We'll also create a ```DataLoader```, which can split the data into batches of a predefined size while training. It also provides other utilities like shuffling and random sampling of the data."
   ]
  },
  {
   "cell_type": "code",
   "execution_count": 34,
   "metadata": {},
   "outputs": [],
   "source": [
    "from torch.utils.data import DataLoader"
   ]
  },
  {
   "cell_type": "code",
   "execution_count": 35,
   "metadata": {},
   "outputs": [],
   "source": [
    "batch_size = 5\n",
    "train_dl = DataLoader(train_ds,batch_size,shuffle=True)"
   ]
  },
  {
   "cell_type": "code",
   "execution_count": 36,
   "metadata": {},
   "outputs": [
    {
     "name": "stdout",
     "output_type": "stream",
     "text": [
      "tensor([[ 69.,  96.,  70.],\n",
      "        [ 69.,  96.,  70.],\n",
      "        [ 87., 134.,  58.],\n",
      "        [ 91.,  88.,  64.],\n",
      "        [ 87., 134.,  58.]])\n",
      "tensor([[103., 119.],\n",
      "        [103., 119.],\n",
      "        [119., 133.],\n",
      "        [ 81., 101.],\n",
      "        [119., 133.]])\n"
     ]
    }
   ],
   "source": [
    "for xb, yb in train_dl:\n",
    "    print(xb)\n",
    "    print(yb)\n",
    "    break"
   ]
  },
  {
   "cell_type": "markdown",
   "metadata": {},
   "source": [
    "**nn.Linear**\n",
    "\n",
    "Instead of initializing the weights & biases manually, we can define the model using the nn.Linear class from PyTorch, which does it automatically."
   ]
  },
  {
   "cell_type": "code",
   "execution_count": 38,
   "metadata": {},
   "outputs": [
    {
     "name": "stdout",
     "output_type": "stream",
     "text": [
      "Parameter containing:\n",
      "tensor([[-0.2774, -0.3018,  0.2094],\n",
      "        [-0.0572, -0.4618, -0.4878]], requires_grad=True)\n",
      "Parameter containing:\n",
      "tensor([0.4542, 0.0034], requires_grad=True)\n"
     ]
    }
   ],
   "source": [
    "model = nn.Linear(3,2)\n",
    "print(model.weight)\n",
    "print(model.bias)"
   ]
  },
  {
   "cell_type": "code",
   "execution_count": 45,
   "metadata": {},
   "outputs": [
    {
     "data": {
      "text/plain": [
       "[Parameter containing:\n",
       " tensor([[-0.2774, -0.3018,  0.2094],\n",
       "         [-0.0572, -0.4618, -0.4878]], requires_grad=True),\n",
       " Parameter containing:\n",
       " tensor([0.4542, 0.0034], requires_grad=True)]"
      ]
     },
     "execution_count": 45,
     "metadata": {},
     "output_type": "execute_result"
    }
   ],
   "source": [
    "list(model.parameters())"
   ]
  },
  {
   "cell_type": "code",
   "execution_count": 39,
   "metadata": {},
   "outputs": [
    {
     "data": {
      "text/plain": [
       "tensor([[-31.0118, -56.0909],\n",
       "        [-37.9450, -77.0626],\n",
       "        [-51.9768, -95.1515],\n",
       "        [-33.0683, -43.7398],\n",
       "        [-33.0007, -82.4250],\n",
       "        [-31.0118, -56.0909],\n",
       "        [-37.9450, -77.0626],\n",
       "        [-51.9768, -95.1515],\n",
       "        [-33.0683, -43.7398],\n",
       "        [-33.0007, -82.4250],\n",
       "        [-31.0118, -56.0909],\n",
       "        [-37.9450, -77.0626],\n",
       "        [-51.9768, -95.1515],\n",
       "        [-33.0683, -43.7398],\n",
       "        [-33.0007, -82.4250]], grad_fn=<AddmmBackward>)"
      ]
     },
     "execution_count": 39,
     "metadata": {},
     "output_type": "execute_result"
    }
   ],
   "source": [
    "preds = model(inputs)\n",
    "preds"
   ]
  },
  {
   "cell_type": "code",
   "execution_count": 40,
   "metadata": {},
   "outputs": [],
   "source": [
    "import torch.nn.functional as F"
   ]
  },
  {
   "cell_type": "code",
   "execution_count": 41,
   "metadata": {},
   "outputs": [],
   "source": [
    "loss_fn = F.mse_loss"
   ]
  },
  {
   "cell_type": "code",
   "execution_count": 46,
   "metadata": {},
   "outputs": [],
   "source": [
    "opt = torch.optim.SGD(model.parameters(),lr=1e-5)"
   ]
  },
  {
   "cell_type": "code",
   "execution_count": 47,
   "metadata": {},
   "outputs": [],
   "source": [
    "def fit(num_epochs, model, loss_fn, opt, train_dl):\n",
    "    \n",
    "    # Repeat for given number of epochs\n",
    "    for epoch in range(num_epochs):\n",
    "        \n",
    "        # Train with batches of data\n",
    "        for xb,yb in train_dl:\n",
    "            \n",
    "            # 1. Generate predictions\n",
    "            pred = model(xb)\n",
    "            \n",
    "            # 2. Calculate loss\n",
    "            loss = loss_fn(pred, yb)\n",
    "            \n",
    "            # 3. Compute gradients\n",
    "            loss.backward()\n",
    "            \n",
    "            # 4. Update parameters using gradients\n",
    "            opt.step()\n",
    "            \n",
    "            # 5. Reset the gradients to zero\n",
    "            opt.zero_grad()\n",
    "        \n",
    "        # Print the progress\n",
    "        if (epoch+1) % 10 == 0:\n",
    "            print('Epoch [{}/{}], Loss: {:.4f}'.format(epoch+1, num_epochs, loss.item()))"
   ]
  },
  {
   "cell_type": "code",
   "execution_count": 49,
   "metadata": {},
   "outputs": [
    {
     "name": "stdout",
     "output_type": "stream",
     "text": [
      "Epoch [10/100], Loss: 513.1780\n",
      "Epoch [20/100], Loss: 511.0054\n",
      "Epoch [30/100], Loss: 162.1580\n",
      "Epoch [40/100], Loss: 275.6198\n",
      "Epoch [50/100], Loss: 192.1761\n",
      "Epoch [60/100], Loss: 120.6092\n",
      "Epoch [70/100], Loss: 46.4603\n",
      "Epoch [80/100], Loss: 77.1869\n",
      "Epoch [90/100], Loss: 41.9344\n",
      "Epoch [100/100], Loss: 50.8060\n"
     ]
    }
   ],
   "source": [
    "fit(100,model,loss_fn,opt,train_dl)"
   ]
  },
  {
   "cell_type": "code",
   "execution_count": 50,
   "metadata": {},
   "outputs": [
    {
     "data": {
      "text/plain": [
       "tensor([[ 58.2916,  72.2051],\n",
       "        [ 82.7025,  97.2687],\n",
       "        [115.8335, 138.1595],\n",
       "        [ 27.0973,  47.1482],\n",
       "        [ 99.3563, 107.2716],\n",
       "        [ 58.2916,  72.2051],\n",
       "        [ 82.7025,  97.2687],\n",
       "        [115.8335, 138.1595],\n",
       "        [ 27.0973,  47.1482],\n",
       "        [ 99.3563, 107.2716],\n",
       "        [ 58.2916,  72.2051],\n",
       "        [ 82.7025,  97.2687],\n",
       "        [115.8335, 138.1595],\n",
       "        [ 27.0973,  47.1482],\n",
       "        [ 99.3563, 107.2716]], grad_fn=<AddmmBackward>)"
      ]
     },
     "execution_count": 50,
     "metadata": {},
     "output_type": "execute_result"
    }
   ],
   "source": [
    "preds = model(inputs)\n",
    "preds"
   ]
  },
  {
   "cell_type": "code",
   "execution_count": 51,
   "metadata": {},
   "outputs": [
    {
     "data": {
      "text/plain": [
       "tensor([[ 56.,  70.],\n",
       "        [ 81., 101.],\n",
       "        [119., 133.],\n",
       "        [ 22.,  37.],\n",
       "        [103., 119.],\n",
       "        [ 56.,  70.],\n",
       "        [ 81., 101.],\n",
       "        [119., 133.],\n",
       "        [ 22.,  37.],\n",
       "        [103., 119.],\n",
       "        [ 56.,  70.],\n",
       "        [ 81., 101.],\n",
       "        [119., 133.],\n",
       "        [ 22.,  37.],\n",
       "        [103., 119.]])"
      ]
     },
     "execution_count": 51,
     "metadata": {},
     "output_type": "execute_result"
    }
   ],
   "source": [
    "targets"
   ]
  },
  {
   "cell_type": "code",
   "execution_count": null,
   "metadata": {},
   "outputs": [],
   "source": []
  }
 ],
 "metadata": {
  "kernelspec": {
   "display_name": "Python 3",
   "language": "python",
   "name": "python3"
  },
  "language_info": {
   "codemirror_mode": {
    "name": "ipython",
    "version": 3
   },
   "file_extension": ".py",
   "mimetype": "text/x-python",
   "name": "python",
   "nbconvert_exporter": "python",
   "pygments_lexer": "ipython3",
   "version": "3.7.8"
  }
 },
 "nbformat": 4,
 "nbformat_minor": 4
}
